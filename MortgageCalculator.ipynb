{
 "cells": [
  {
   "cell_type": "code",
   "execution_count": 9,
   "id": "b521094d",
   "metadata": {},
   "outputs": [
    {
     "name": "stdout",
     "output_type": "stream",
     "text": [
      "Enter the loan amount ($): 300000\n",
      "Enter the annual interest rate (%): 4.5\n",
      "Enter the loan term (years): 5\n",
      "Enter the compounding interval (Monthly, Weekly, Daily, Continually): monthly\n",
      "Monthly payment: Rs5592.91\n",
      "Total payment: Rs335574.35\n",
      "Time to pay back the loan: 1 years and 1 months\n"
     ]
    }
   ],
   "source": [
    "import math\n",
    "\n",
    "def mortgage_calculator(principal, annual_rate, years, compounding_interval):\n",
    "    # Convert annual rate to monthly rate\n",
    "    monthly_rate = annual_rate / 100 / 12\n",
    "    \n",
    "    # Convert years to months\n",
    "    months = years * 12\n",
    "    \n",
    "    # Calculate monthly payment\n",
    "    if monthly_rate > 0:\n",
    "        monthly_payment = principal * (monthly_rate * math.pow(1 + monthly_rate, months)) / (math.pow(1 + monthly_rate, months) - 1)\n",
    "    else:\n",
    "        monthly_payment = principal / months\n",
    "    \n",
    "    # Calculate total payment\n",
    "    total_payment = monthly_payment * months\n",
    "    \n",
    "    # Calculate time to pay back the loan\n",
    "    years_to_pay = total_payment / principal\n",
    "    \n",
    "    # Calculate time to pay back the loan in years and months\n",
    "    years = int(years_to_pay)\n",
    "    months = int((years_to_pay - years) * 12)\n",
    "    \n",
    "    # Format output\n",
    "    print(f\"Monthly payment: Rs{monthly_payment:.2f}\")\n",
    "    print(f\"Total payment: Rs{total_payment:.2f}\")\n",
    "    print(f\"Time to pay back the loan: {years} years and {months} months\")\n",
    "\n",
    "def main():\n",
    "    # Get user input\n",
    "    principal = float(input(\"Enter the loan amount ($): \"))\n",
    "    annual_rate = float(input(\"Enter the annual interest rate (%): \"))\n",
    "    years = int(input(\"Enter the loan term (years): \"))\n",
    "    \n",
    "    # Get compounding interval\n",
    "    compounding_interval = input(\"Enter the compounding interval (Monthly, Weekly, Daily, Continually): \").lower()\n",
    "    \n",
    "    # Convert compounding interval to monthly equivalent\n",
    "    if compounding_interval == 'weekly':\n",
    "        annual_rate /= 52\n",
    "    elif compounding_interval == 'daily':\n",
    "        annual_rate /= 365\n",
    "    elif compounding_interval == 'continually':\n",
    "        annual_rate = 100 * (math.exp(annual_rate / 100) - 1)\n",
    "    \n",
    "    # Calculate mortgage\n",
    "    mortgage_calculator(principal, annual_rate, years, compounding_interval)\n",
    "\n",
    "if __name__ == \"__main__\":\n",
    "    main()\n"
   ]
  },
  {
   "cell_type": "code",
   "execution_count": null,
   "id": "5d9f3726",
   "metadata": {},
   "outputs": [],
   "source": []
  }
 ],
 "metadata": {
  "kernelspec": {
   "display_name": "Python 3 (ipykernel)",
   "language": "python",
   "name": "python3"
  },
  "language_info": {
   "codemirror_mode": {
    "name": "ipython",
    "version": 3
   },
   "file_extension": ".py",
   "mimetype": "text/x-python",
   "name": "python",
   "nbconvert_exporter": "python",
   "pygments_lexer": "ipython3",
   "version": "3.11.4"
  }
 },
 "nbformat": 4,
 "nbformat_minor": 5
}
